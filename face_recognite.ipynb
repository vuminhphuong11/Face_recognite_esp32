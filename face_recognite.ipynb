{
 "cells": [
  {
   "cell_type": "code",
   "execution_count": 1,
   "metadata": {},
   "outputs": [
    {
     "name": "stderr",
     "output_type": "stream",
     "text": [
      "c:\\Users\\Admin\\AppData\\Local\\Programs\\Python\\Python311\\Lib\\site-packages\\tqdm\\auto.py:21: TqdmWarning: IProgress not found. Please update jupyter and ipywidgets. See https://ipywidgets.readthedocs.io/en/stable/user_install.html\n",
      "  from .autonotebook import tqdm as notebook_tqdm\n"
     ]
    }
   ],
   "source": [
    "import pandas as pd\n",
    "import cv2\n",
    "import urllib.request\n",
    "import numpy as np\n",
    "import os\n",
    "from datetime import datetime\n",
    "from facenet_pytorch import MTCNN, InceptionResnetV1\n",
    "import torch"
   ]
  },
  {
   "cell_type": "code",
   "execution_count": 2,
   "metadata": {},
   "outputs": [],
   "source": [
    "# Đường dẫn ảnh và URL camera\n",
    "path = r\"E:\\ATTENDANCE\\image_folder\"\n",
    "url = 'http://192.168.1.17/cam-mid.jpg'\n"
   ]
  },
  {
   "cell_type": "code",
   "execution_count": 3,
   "metadata": {},
   "outputs": [
    {
     "name": "stdout",
     "output_type": "stream",
     "text": [
      "Loaded image list: ['ellon musk.jfif', 'priyansh.jfif', 'usain bolt.jpg']\n",
      "Class names: ['ellon musk', 'priyansh', 'usain bolt']\n"
     ]
    }
   ],
   "source": [
    "# Load ảnh và tên lớp\n",
    "images = []\n",
    "classNames = []\n",
    "myList = os.listdir(path)\n",
    "print(\"Loaded image list:\", myList)\n",
    "\n",
    "for cl in myList:\n",
    "    curImg = cv2.imread(f'{path}/{cl}')\n",
    "    images.append(curImg)\n",
    "    classNames.append(os.path.splitext(cl)[0])\n",
    "print(\"Class names:\", classNames)"
   ]
  },
  {
   "cell_type": "code",
   "execution_count": 7,
   "metadata": {},
   "outputs": [],
   "source": [
    "# Kiểm tra và khởi tạo file Attendance.csv\n",
    "if 'Attendance.csv' in os.listdir(os.path.join(os.getcwd(), 'attendace')):\n",
    "    print(\"Attendance.csv exists. Removing old file...\")\n",
    "    os.remove(\"Attendance.csv\")\n",
    "else:\n",
    "    df = pd.DataFrame(columns=[\"Name\", \"Time\"])\n",
    "    df.to_csv(\"Attendance.csv\", index=False)"
   ]
  },
  {
   "cell_type": "code",
   "execution_count": 4,
   "metadata": {},
   "outputs": [
    {
     "name": "stderr",
     "output_type": "stream",
     "text": [
      "100%|██████████| 107M/107M [00:58<00:00, 1.90MB/s] \n"
     ]
    }
   ],
   "source": [
    "# Dùng MTCNN để detect face và InceptionResnetV1 để tạo embeddings\n",
    "device = torch.device('cuda' if torch.cuda.is_available() else 'cpu')\n",
    "mtcnn = MTCNN(image_size=160, margin=20, min_face_size=20, device=device)\n",
    "resnet = InceptionResnetV1(pretrained='vggface2').eval().to(device)\n",
    "\n",
    "# Tạo encoding cho các ảnh đã load\n",
    "def findEncodings(images):\n",
    "    encodeList = []\n",
    "    for img in images:\n",
    "        img = cv2.cvtColor(img, cv2.COLOR_BGR2RGB)\n",
    "        img_cropped = mtcnn(img)\n",
    "        if img_cropped is not None:\n",
    "            with torch.no_grad():\n",
    "                encoding = resnet(img_cropped.unsqueeze(0).to(device))\n",
    "                encodeList.append(encoding.squeeze(0).cpu().numpy())\n",
    "    return encodeList\n",
    "\n"
   ]
  },
  {
   "cell_type": "code",
   "execution_count": 5,
   "metadata": {},
   "outputs": [
    {
     "name": "stdout",
     "output_type": "stream",
     "text": [
      "Encoding Complete\n"
     ]
    }
   ],
   "source": [
    "# Tìm encoding cho ảnh đầu vào\n",
    "encodeListKnown = findEncodings(images)\n",
    "print('Encoding Complete')"
   ]
  }
 ],
 "metadata": {
  "kernelspec": {
   "display_name": "Python 3",
   "language": "python",
   "name": "python3"
  },
  "language_info": {
   "codemirror_mode": {
    "name": "ipython",
    "version": 3
   },
   "file_extension": ".py",
   "mimetype": "text/x-python",
   "name": "python",
   "nbconvert_exporter": "python",
   "pygments_lexer": "ipython3",
   "version": "3.11.0"
  }
 },
 "nbformat": 4,
 "nbformat_minor": 2
}
